{
 "cells": [
  {
   "cell_type": "code",
   "execution_count": 1,
   "id": "b6417465",
   "metadata": {
    "_cell_guid": "b1076dfc-b9ad-4769-8c92-a6c4dae69d19",
    "_uuid": "8f2839f25d086af736a60e9eeb907d3b93b6e0e5",
    "execution": {
     "iopub.execute_input": "2022-10-30T20:34:13.134439Z",
     "iopub.status.busy": "2022-10-30T20:34:13.131986Z",
     "iopub.status.idle": "2022-10-30T20:34:13.246630Z",
     "shell.execute_reply": "2022-10-30T20:34:13.243689Z"
    },
    "papermill": {
     "duration": 0.124292,
     "end_time": "2022-10-30T20:34:13.249414",
     "exception": true,
     "start_time": "2022-10-30T20:34:13.125122",
     "status": "failed"
    },
    "tags": []
   },
   "outputs": [
    {
     "ename": "ERROR",
     "evalue": "Error in parse(text = x, srcfile = src): <text>:5:8: unexpected symbol\n4: \n5: import numpy\n          ^\n",
     "output_type": "error",
     "traceback": [
      "Error in parse(text = x, srcfile = src): <text>:5:8: unexpected symbol\n4: \n5: import numpy\n          ^\nTraceback:\n"
     ]
    }
   ],
   "source": [
    "# This Python 3 environment comes with many helpful analytics libraries installed\n",
    "# It is defined by the kaggle/python Docker image: https://github.com/kaggle/docker-python\n",
    "# For example, here's several helpful packages to load\n",
    "\n",
    "import numpy as np # linear algebra\n",
    "import pandas as pd # data processing, CSV file I/O (e.g. pd.read_csv)\n",
    "\n",
    "# Input data files are available in the read-only \"../input/\" directory\n",
    "# For example, running this (by clicking run or pressing Shift+Enter) will list all files under the input directory\n",
    "\n",
    "import os\n",
    "for dirname, _, filenames in os.walk('/kaggle/input'):\n",
    "    for filename in filenames:\n",
    "        print(os.path.join(dirname, filename))\n",
    "\n",
    "# You can write up to 20GB to the current directory (/kaggle/working/) that gets preserved as output when you create a version using \"Save & Run All\" \n",
    "# You can also write temporary files to /kaggle/temp/, but they won't be saved outside of the current session"
   ]
  },
  {
   "cell_type": "markdown",
   "id": "e971f6d8",
   "metadata": {
    "papermill": {
     "duration": null,
     "end_time": null,
     "exception": null,
     "start_time": null,
     "status": "pending"
    },
    "tags": []
   },
   "source": [
    "**Loading packages **\n"
   ]
  },
  {
   "cell_type": "code",
   "execution_count": null,
   "id": "ab4b6e43",
   "metadata": {
    "papermill": {
     "duration": null,
     "end_time": null,
     "exception": null,
     "start_time": null,
     "status": "pending"
    },
    "tags": []
   },
   "outputs": [],
   "source": [
    "install.packages('tidyverse')\n",
    "library(tidyverse)\n",
    "install.packages(\"here\")\n",
    "library(\"here\")\n",
    "install.packages(\"skimr\")\n",
    "library(\"skimr\")\n",
    "install.packages(\"janitor\")\n",
    "library('janitor')\n",
    "install.packages(\"dplyr\")\n",
    "library(\"dplyr\")\n",
    "\n"
   ]
  },
  {
   "cell_type": "markdown",
   "id": "978a9edd",
   "metadata": {
    "papermill": {
     "duration": null,
     "end_time": null,
     "exception": null,
     "start_time": null,
     "status": "pending"
    },
    "tags": []
   },
   "source": [
    "Clean data sets"
   ]
  },
  {
   "cell_type": "code",
   "execution_count": null,
   "id": "d78e198f",
   "metadata": {
    "papermill": {
     "duration": null,
     "end_time": null,
     "exception": null,
     "start_time": null,
     "status": "pending"
    },
    "tags": []
   },
   "outputs": [],
   "source": [
    "daily_activity <- dailyActivity_merged\n",
    "daily_sleep <- sleepDay_merged\n",
    "daily_calories <- dailyCalories_merged\n",
    "\n",
    "colnames(daily_sleep)\n",
    "colnames(daily_activity)\n",
    "colnames(daily_calories)\n",
    "\n",
    "clean_names(daily_activity)\n",
    "clean_names(daily_calories)\n",
    "clean_names(daily_sleep)\n",
    "\n",
    "glimpse(daily_sleep)\n",
    "glimpse(daily_activity)\n",
    "glimpse(daily_calories)\n",
    "\n",
    "skim_without_charts(daily_sleep)\n",
    "skim_without_charts(daily_activity)\n",
    "skim_without_charts(daily_calories)\n",
    "\n",
    "#How many participants?\n",
    "daily_sleep %>%\n",
    "distinct(Id)\n",
    "#24 participants in sleep data \n",
    "\n",
    "daily_activity %>%\n",
    "  distinct(Id)\n",
    "#33 participants in activity data  \n",
    "\n",
    "daily_calories %>%\n",
    "  distinct(Id)\n",
    "\n",
    "#33 users in Kcal data\n",
    "\n",
    "# Average steps per day = 7519\n",
    "\n",
    "Average_daily_steps <- \n",
    "daily_activity %>%\n",
    "  group_by(Id) %>%\n",
    "  summarise(mean_steps = mean(TotalSteps))\n",
    "\n",
    "View(Average_daily_steps)\n",
    "\n",
    "Average_daily_steps %>% \n",
    "  summarise(mean(mean_steps))\n",
    "\n",
    "#Average Kcals consumed daily by each user  2282Kcals\n",
    "\n",
    "# ? how to find average of all users (?filter by user ID)\n",
    "\n",
    "Average_kcal_user <- \n",
    "daily_calories %>%\n",
    "group_by(Id) %>%\n",
    "summarise(mean_calories = mean(Calories))\n",
    "View(Average_kcal_user)\n",
    "\n",
    "Average_kcal_user %>%\n",
    "  summarise(mean(mean_calories))\n",
    "\n",
    "# Average hrs of sleep = 378 minutes per day \n",
    "# 6.3 hrs \n",
    "\n",
    "Average_sleep <-\n",
    "  \n",
    "  daily_sleep %>%\n",
    "  group_by(Id) %>%\n",
    "summarise(mean_sleep = mean(TotalMinutesAsleep))\n",
    "View (Average_sleep)\n",
    "\n",
    "Average_sleep %>%\n",
    "  summarise(mean(mean_sleep))\n",
    "\n",
    "install.packages('lubridate')\n",
    "library(lubridate)\n",
    "\n",
    "\n",
    "## clean sleep data to seperate column\n",
    "\n",
    " library(tidyr)\n",
    "daily_sleep_clean <-\n",
    "separate(daily_sleep, col=SleepDay,\n",
    "         into=c(\"Date\", \"Time\"),\n",
    "         sep = \" \")\n",
    "\n",
    "head(daily_sleep_clean)\n",
    "View(daily_sleep_clean)\n",
    "\n",
    "## Make date columns all the same title for date column \n",
    "daily_calories_clean <-\n",
    "rename(daily_calories, Date= ActivityDay)\n",
    "View(daily_calories_clean)\n",
    "\n",
    "\n",
    "daily_activity_clean <-\n",
    "  rename(daily_activity, Date = ActivityDate)\n",
    "View(daily_activity_clean)\n",
    "daily_activity_clean\n",
    "group_by(Id, Date)\n",
    "\n",
    "\n",
    "\n"
   ]
  },
  {
   "cell_type": "code",
   "execution_count": null,
   "id": "5fe71669",
   "metadata": {
    "papermill": {
     "duration": null,
     "end_time": null,
     "exception": null,
     "start_time": null,
     "status": "pending"
    },
    "tags": []
   },
   "outputs": [],
   "source": [
    "Joins\n",
    "\n",
    "Sleep - total minutes asleep  + Calories - calories \n",
    "Activity -total steps\n"
   ]
  },
  {
   "cell_type": "code",
   "execution_count": null,
   "id": "2e7be294",
   "metadata": {
    "papermill": {
     "duration": null,
     "end_time": null,
     "exception": null,
     "start_time": null,
     "status": "pending"
    },
    "tags": []
   },
   "outputs": [],
   "source": [
    "#Merge kcals and sleep \n",
    "daily_sleep_calories <- merge(daily_calories_clean, daily_sleep_clean,\n",
    "by=c(\"Id\", \"Date\"))\n",
    "\n",
    "View(daily_sleep_calories)\n",
    "\n",
    "#Merge steps and sleep \n",
    "\n",
    "daily_activity_sleep <- merge(daily_activity_clean, daily_sleep_clean, by=c (\"Id\", \"Date\"))+\n",
    "select(Id, Date, TotalSteps,TotalMinutesAsleep) %>% \n",
    "  group_by( Id, Date)\n"
   ]
  },
  {
   "cell_type": "markdown",
   "id": "a5c1186f",
   "metadata": {
    "papermill": {
     "duration": null,
     "end_time": null,
     "exception": null,
     "start_time": null,
     "status": "pending"
    },
    "tags": []
   },
   "source": [
    "Data visualisation \n"
   ]
  },
  {
   "cell_type": "code",
   "execution_count": null,
   "id": "9f7dedc7",
   "metadata": {
    "papermill": {
     "duration": null,
     "end_time": null,
     "exception": null,
     "start_time": null,
     "status": "pending"
    },
    "tags": []
   },
   "outputs": [],
   "source": [
    "\n",
    "#  Mapping sleep to calories - no correlation \n",
    "plot3<-   ggplot(data=daily_sleep_calories)+\n",
    "  geom_point(mapping=aes(x=Calories , y=TotalMinutesAsleep, colour= Calories))+\n",
    "  labs(title = \"Sleep and calorie consumption\", y=\"Sleep (mins)\")  \n",
    "\n",
    "plot3 + annotate(\"text\", x=c(3500), y=c(700), label=\"No correlation\",colour='red',\n",
    "                 fontface='bold',size=4, angle=0)\n",
    "\n",
    "# Mapping sleep to activity - no correlation \n",
    "\n",
    "plot1 <- ggplot( data = daily_activity_sleep)+\n",
    "  geom_point(mapping =aes(x =TotalMinutesAsleep, y = TotalSteps)) +\n",
    "labs(title= \"Activity and sleep\", x=\"Sleep (mins)\", y= \"Steps\",  color=\"blue\", \n",
    "     size=8 , angle=45, fontface=\"bold\" ) \n",
    "  \n",
    "plot1 + annotate(\"text\", x=c(400), y=c(20900), label=\"No correlation between activity & sleep\",colour='blue',\n",
    "           fontface='bold',size=3, angle=0) \n",
    "\n",
    "#Does time in bed affect sleep duration? -Posiitve Correlation\n",
    " \n",
    "plot2 <- ggplot(data = daily_sleep_clean)+\n",
    "  geom_point(mapping = aes(x=TotalMinutesAsleep , y=TotalTimeInBed)) +\n",
    "   \t\n",
    "labs(title = \"Time in bed vs time asleeep\",  x=\"Time Asleep (mins)\", y=\"Time in bed (mins)\")\n",
    "\n",
    "plot2 + annotate(\"text\", x=c(400), y=c(850), label=\"Positive correlation\",colour='red',\n",
    "           fontface='bold',size=5, angle=0)\n",
    "\n"
   ]
  },
  {
   "cell_type": "markdown",
   "id": "c43b995a",
   "metadata": {
    "papermill": {
     "duration": null,
     "end_time": null,
     "exception": null,
     "start_time": null,
     "status": "pending"
    },
    "tags": []
   },
   "source": []
  },
  {
   "cell_type": "code",
   "execution_count": null,
   "id": "580a2dff",
   "metadata": {
    "papermill": {
     "duration": null,
     "end_time": null,
     "exception": null,
     "start_time": null,
     "status": "pending"
    },
    "tags": []
   },
   "outputs": [],
   "source": []
  },
  {
   "cell_type": "markdown",
   "id": "27d91790",
   "metadata": {
    "papermill": {
     "duration": null,
     "end_time": null,
     "exception": null,
     "start_time": null,
     "status": "pending"
    },
    "tags": []
   },
   "source": []
  },
  {
   "cell_type": "markdown",
   "id": "7196de3b",
   "metadata": {
    "papermill": {
     "duration": null,
     "end_time": null,
     "exception": null,
     "start_time": null,
     "status": "pending"
    },
    "tags": []
   },
   "source": []
  },
  {
   "cell_type": "markdown",
   "id": "cf5bfd96",
   "metadata": {
    "papermill": {
     "duration": null,
     "end_time": null,
     "exception": null,
     "start_time": null,
     "status": "pending"
    },
    "tags": []
   },
   "source": []
  },
  {
   "cell_type": "markdown",
   "id": "d48700d8",
   "metadata": {
    "papermill": {
     "duration": null,
     "end_time": null,
     "exception": null,
     "start_time": null,
     "status": "pending"
    },
    "tags": []
   },
   "source": []
  },
  {
   "cell_type": "code",
   "execution_count": null,
   "id": "669b56ba",
   "metadata": {
    "papermill": {
     "duration": null,
     "end_time": null,
     "exception": null,
     "start_time": null,
     "status": "pending"
    },
    "tags": []
   },
   "outputs": [],
   "source": []
  }
 ],
 "metadata": {
  "kernelspec": {
   "display_name": "R",
   "language": "R",
   "name": "ir"
  },
  "language_info": {
   "codemirror_mode": "r",
   "file_extension": ".r",
   "mimetype": "text/x-r-source",
   "name": "R",
   "pygments_lexer": "r",
   "version": "4.0.5"
  },
  "papermill": {
   "default_parameters": {},
   "duration": 3.736342,
   "end_time": "2022-10-30T20:34:13.375031",
   "environment_variables": {},
   "exception": true,
   "input_path": "__notebook__.ipynb",
   "output_path": "__notebook__.ipynb",
   "parameters": {},
   "start_time": "2022-10-30T20:34:09.638689",
   "version": "2.4.0"
  }
 },
 "nbformat": 4,
 "nbformat_minor": 5
}
